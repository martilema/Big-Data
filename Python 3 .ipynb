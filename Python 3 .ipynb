{
 "cells": [
  {
   "cell_type": "markdown",
   "id": "c09f4b43",
   "metadata": {},
   "source": [
    "## 1) Nuestro amigo el IF"
   ]
  },
  {
   "cell_type": "code",
   "execution_count": null,
   "id": "630427d2",
   "metadata": {},
   "outputs": [],
   "source": [
    "nro_de_cliente = 999\n",
    "\n",
    "if nro_de_cliente == 999:\n",
    "    print(\"¡Es el cliente 999!\")\n",
    "else:\n",
    "    print(\"Cliente no encontrado 😕\")"
   ]
  },
  {
   "cell_type": "code",
   "execution_count": null,
   "id": "ceb1a53d",
   "metadata": {},
   "outputs": [],
   "source": [
    "# IF anidado\n",
    "if nro_de_cliente == 999:\n",
    "    print(\"¡Es el cliente 999!\")\n",
    "elif nro_de_cliente == 111:\n",
    "    print(\"¡Es el cliente 111!\")\n",
    "else:\n",
    "    print(\"Cliente no encontrado 😕\")"
   ]
  },
  {
   "cell_type": "markdown",
   "id": "a022a2f1",
   "metadata": {},
   "source": [
    "**Operadores de comparación:**\n",
    "- Igual: `x1 == x2`\n",
    "- Distinto: `x1 != x2`\n",
    "- Menor a: `x1 < x2`\n",
    "- Menor o igual: `x1 <= x2`\n",
    "- Mayor a: `x1 > x2`\n",
    "- Mayor o igual: `x1 >= x2`"
   ]
  },
  {
   "cell_type": "markdown",
   "id": "4ed5987f",
   "metadata": {},
   "source": [
    "## 2) Mientras vemos el `while`"
   ]
  },
  {
   "cell_type": "code",
   "execution_count": null,
   "id": "9f4321d8",
   "metadata": {},
   "outputs": [],
   "source": [
    "i = 0\n",
    "while i < 6:\n",
    "    i += 1\n",
    "    print(i)"
   ]
  },
  {
   "cell_type": "code",
   "execution_count": null,
   "id": "776c02ce",
   "metadata": {},
   "outputs": [],
   "source": [
    "# Bucle con salida\n",
    "while True:\n",
    "    nombre = input(\"¿Nombre? \")\n",
    "    if nombre.lower() == 'me aburri':\n",
    "        print(\"¡Chau!\")\n",
    "        break\n",
    "    print(\"Bienvenido/a \" + nombre)"
   ]
  },
  {
   "cell_type": "markdown",
   "id": "30ed26f9",
   "metadata": {},
   "source": [
    "## 3) ¿Para qué usar `while`, si hay `for`?"
   ]
  },
  {
   "cell_type": "code",
   "execution_count": null,
   "id": "490f00b3",
   "metadata": {},
   "outputs": [],
   "source": [
    "lista = [1, 2, 3, 4, 5, 6]\n",
    "\n",
    "for i in lista:\n",
    "    if i == 5:\n",
    "        break\n",
    "    print(i)"
   ]
  },
  {
   "cell_type": "markdown",
   "id": "42649fdd",
   "metadata": {},
   "source": [
    "### Iterar sobre un DataFrame de pandas"
   ]
  },
  {
   "cell_type": "code",
   "execution_count": null,
   "id": "decd526e",
   "metadata": {},
   "outputs": [],
   "source": [
    "import pandas as pd\n",
    "\n",
    "d_star_wars = pd.read_csv(\"https://raw.githubusercontent.com/fpineyro/homework-0/master/starwars.csv\")\n",
    "d_star_wars.head()"
   ]
  },
  {
   "cell_type": "code",
   "execution_count": null,
   "id": "67b7da7f",
   "metadata": {},
   "outputs": [],
   "source": [
    "# Iterar con iterrows\n",
    "for idx, row in d_star_wars[:5].iterrows():\n",
    "    print(f\"Label: {idx}\")\n",
    "    print(row)"
   ]
  },
  {
   "cell_type": "code",
   "execution_count": null,
   "id": "a3536138",
   "metadata": {},
   "outputs": [],
   "source": [
    "# Acceder a valores específicos\n",
    "for _, row in d_star_wars[:10].iterrows():\n",
    "    print(f\"Personaje: {row['name']}, Lugar: {row['homeworld']}\")"
   ]
  },
  {
   "cell_type": "markdown",
   "id": "733301ba",
   "metadata": {},
   "source": [
    "## 4) ¿Cómo crear funciones en Python?"
   ]
  },
  {
   "cell_type": "code",
   "execution_count": null,
   "id": "1b0bbe86",
   "metadata": {},
   "outputs": [],
   "source": [
    "def mi_funcion():\n",
    "    print(\"Hola, mundo!\")"
   ]
  },
  {
   "cell_type": "code",
   "execution_count": null,
   "id": "fcc29edc",
   "metadata": {},
   "outputs": [],
   "source": [
    "mi_funcion()"
   ]
  },
  {
   "cell_type": "code",
   "execution_count": null,
   "id": "e34d0e84",
   "metadata": {},
   "outputs": [],
   "source": [
    "def sumar(a, b):\n",
    "    return a + b\n",
    "\n",
    "def restar(a, b):\n",
    "    return a - b\n",
    "\n",
    "print(sumar(5, 5))\n",
    "print(restar(5, 5))"
   ]
  },
  {
   "cell_type": "code",
   "execution_count": null,
   "id": "33a29622",
   "metadata": {},
   "outputs": [],
   "source": [
    "!pip install -q funpymodeling"
   ]
  },
  {
   "cell_type": "code",
   "execution_count": null,
   "id": "ed18fd61",
   "metadata": {},
   "outputs": [],
   "source": [
    "from funpymodeling.exploratory import status\n",
    "\n",
    "status(d_star_wars)"
   ]
  },
  {
   "cell_type": "code",
   "execution_count": null,
   "id": "2089a084",
   "metadata": {},
   "outputs": [],
   "source": [
    "# Función personalizada para status\n",
    "def status2(df):\n",
    "    return pd.DataFrame({\n",
    "        \"variables\": df.columns,\n",
    "        \"valores_unicos\": df.nunique().values\n",
    "    })\n",
    "\n",
    "status2(d_star_wars)"
   ]
  },
  {
   "cell_type": "markdown",
   "id": "55984eeb",
   "metadata": {},
   "source": [
    "## C.2) ¿Qué es NumPy?"
   ]
  },
  {
   "cell_type": "code",
   "execution_count": null,
   "id": "f81bba9f",
   "metadata": {},
   "outputs": [],
   "source": [
    "import numpy as np\n",
    "\n",
    "arr1 = np.array([1, 2, 3, 4, 5])\n",
    "print(arr1 + arr1)\n",
    "print(arr1.shape)"
   ]
  },
  {
   "cell_type": "code",
   "execution_count": null,
   "id": "c2a0360b",
   "metadata": {},
   "outputs": [],
   "source": [
    "arr2 = np.array([[1,2,3,4,5], [9,8,7,6,5]])\n",
    "print(arr2)\n",
    "print(arr2.shape)"
   ]
  },
  {
   "cell_type": "code",
   "execution_count": null,
   "id": "1159530a",
   "metadata": {},
   "outputs": [],
   "source": [
    "arr3 = np.array([[[1,2,3,4,5], [9,8,7,6,5]]])\n",
    "print(arr3.shape)"
   ]
  },
  {
   "cell_type": "code",
   "execution_count": null,
   "id": "7df1936c",
   "metadata": {},
   "outputs": [],
   "source": [
    "arr4 = np.array([1,2,3,4,5,6]).reshape((2,3))\n",
    "print(arr4)\n",
    "print(arr4.flatten())"
   ]
  },
  {
   "cell_type": "code",
   "execution_count": null,
   "id": "0d39242a",
   "metadata": {},
   "outputs": [],
   "source": [
    "print(arr1[0:3])\n",
    "print(arr4[1,0:2])"
   ]
  },
  {
   "cell_type": "markdown",
   "id": "47a5e282",
   "metadata": {},
   "source": [
    "## Ejercicios"
   ]
  },
  {
   "cell_type": "code",
   "execution_count": null,
   "id": "fed0a8b0",
   "metadata": {},
   "outputs": [],
   "source": [
    "# Ejercicio 1\n",
    "nro_de_cliente = 3\n",
    "if 0 <= nro_de_cliente <= 4:\n",
    "    print(\"Usuario autorizado\")\n",
    "else:\n",
    "    print(\"Usuario no autorizado\")"
   ]
  },
  {
   "cell_type": "code",
   "execution_count": null,
   "id": "d6459320",
   "metadata": {},
   "outputs": [],
   "source": [
    "# Ejercicio 2\n",
    "while True:\n",
    "    numero = int(input(\"Ingrese un número del 1 al 5: \"))\n",
    "    if numero == 3:\n",
    "        print(\"¡Usted ha ganado la lotería!\")\n",
    "        break"
   ]
  },
  {
   "cell_type": "code",
   "execution_count": null,
   "id": "cc42fc67",
   "metadata": {},
   "outputs": [],
   "source": [
    "# Ejercicio 3\n",
    "lista = list(range(11))\n",
    "numero = int(input(\"Ingrese un número del 0 al 10: \"))\n",
    "\n",
    "for i in lista:\n",
    "    if i <= numero:\n",
    "        print(i)"
   ]
  },
  {
   "cell_type": "code",
   "execution_count": null,
   "id": "c96dce0d",
   "metadata": {},
   "outputs": [],
   "source": [
    "# Ejercicio 4\n",
    "def sumar_valores():\n",
    "    x1 = int(input(\"Ingrese primer número: \"))\n",
    "    x2 = int(input(\"Ingrese segundo número: \"))\n",
    "    print(\"Resultado:\", x1 + x2)\n",
    "\n",
    "sumar_valores()"
   ]
  },
  {
   "cell_type": "code",
   "execution_count": null,
   "id": "cf4c5295",
   "metadata": {},
   "outputs": [],
   "source": [
    "# Ejercicio 5\n",
    "def calculadora():\n",
    "    a = int(input(\"Valor 1: \"))\n",
    "    b = int(input(\"Valor 2: \"))\n",
    "    op = input(\"Operación (+, -, *, /): \")\n",
    "\n",
    "    if op == \"+\":\n",
    "        print(a + b)\n",
    "    elif op == \"-\":\n",
    "        print(a - b)\n",
    "    elif op == \"*\":\n",
    "        print(a * b)\n",
    "    elif op == \"/\":\n",
    "        print(a / b)\n",
    "\n",
    "calculadora()"
   ]
  }
 ],
 "metadata": {},
 "nbformat": 4,
 "nbformat_minor": 5
}
