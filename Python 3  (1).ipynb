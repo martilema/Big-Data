{
 "cells": [
  {
   "cell_type": "markdown",
   "id": "e159f46c",
   "metadata": {},
   "source": [
    "# Big Data - Estructuras de Control y Funciones Clásicas\n",
    "## Archivo: Python 3"
   ]
  },
  {
   "cell_type": "markdown",
   "id": "2b506a3e",
   "metadata": {},
   "source": [
    "## 1) Nuestro amigo el IF"
   ]
  },
  {
   "cell_type": "code",
   "execution_count": null,
   "id": "c5655f6f",
   "metadata": {},
   "outputs": [],
   "source": [
    "nro_de_cliente = 999\n",
    "\n",
    "if nro_de_cliente == 999:\n",
    "    print(\"¡Es el cliente 999!\")\n",
    "else:\n",
    "    print(\"Cliente no encontrado 😕\")"
   ]
  },
  {
   "cell_type": "code",
   "execution_count": null,
   "id": "ba6b5f62",
   "metadata": {},
   "outputs": [],
   "source": [
    "# IF anidado\n",
    "if nro_de_cliente == 999:\n",
    "    print(\"¡Es el cliente 999!\")\n",
    "elif nro_de_cliente == 111:\n",
    "    print(\"¡Es el cliente 111!\")\n",
    "else:\n",
    "    print(\"Cliente no encontrado 😕\")"
   ]
  },
  {
   "cell_type": "markdown",
   "id": "f5903240",
   "metadata": {},
   "source": [
    "**Operadores de comparación:**\n",
    "- Igual: `x1 == x2`\n",
    "- Distinto: `x1 != x2`\n",
    "- Menor a: `x1 < x2`\n",
    "- Menor o igual: `x1 <= x2`\n",
    "- Mayor a: `x1 > x2`\n",
    "- Mayor o igual: `x1 >= x2`"
   ]
  },
  {
   "cell_type": "markdown",
   "id": "2b261c10",
   "metadata": {},
   "source": [
    "## 2) Estructuras de repetición: While y For"
   ]
  },
  {
   "cell_type": "markdown",
   "id": "39e23e03",
   "metadata": {},
   "source": [
    "### 2.1) While simple\n",
    "Imprimir los números del 1 al 6 usando un bucle `while`."
   ]
  },
  {
   "cell_type": "code",
   "execution_count": null,
   "id": "557c25b6",
   "metadata": {},
   "outputs": [],
   "source": [
    "i = 0\n",
    "while i < 6:\n",
    "    i += 1\n",
    "    print(i)"
   ]
  },
  {
   "cell_type": "markdown",
   "id": "fdf8dea8",
   "metadata": {},
   "source": [
    "### 2.2) Bucle infinito con condición de salida\n",
    "Solicitar nombres hasta que el usuario escriba 'me aburri'."
   ]
  },
  {
   "cell_type": "code",
   "execution_count": null,
   "id": "84767621",
   "metadata": {},
   "outputs": [],
   "source": [
    "while True:\n",
    "    nombre = input(\"¿Nombre? \")\n",
    "    if nombre.lower() == 'me aburri':\n",
    "        print(\"¡Chau!\")\n",
    "        break\n",
    "    print(\"Bienvenido/a \" + nombre)"
   ]
  },
  {
   "cell_type": "markdown",
   "id": "84fbdefa",
   "metadata": {},
   "source": [
    "### 2.3) For con lista\n",
    "Imprimir los números de una lista hasta encontrar el número 5."
   ]
  },
  {
   "cell_type": "code",
   "execution_count": null,
   "id": "2cd7f849",
   "metadata": {},
   "outputs": [],
   "source": [
    "lista = [1, 2, 3, 4, 5, 6]\n",
    "\n",
    "for i in lista:\n",
    "    if i == 5:\n",
    "        break\n",
    "    print(i)"
   ]
  },
  {
   "cell_type": "markdown",
   "id": "63e0518f",
   "metadata": {},
   "source": [
    "## 3) For aplicado a pandas"
   ]
  },
  {
   "cell_type": "code",
   "execution_count": null,
   "id": "858e5d98",
   "metadata": {},
   "outputs": [],
   "source": [
    "import pandas as pd\n",
    "\n",
    "d_star_wars = pd.read_csv(\"https://raw.githubusercontent.com/fpineyro/homework-0/master/starwars.csv\")\n",
    "d_star_wars.head()"
   ]
  },
  {
   "cell_type": "code",
   "execution_count": null,
   "id": "892cc897",
   "metadata": {},
   "outputs": [],
   "source": [
    "# Iterar con iterrows\n",
    "for idx, row in d_star_wars[:5].iterrows():\n",
    "    print(f\"Label: {idx}\")\n",
    "    print(row)"
   ]
  },
  {
   "cell_type": "code",
   "execution_count": null,
   "id": "bfd10d99",
   "metadata": {},
   "outputs": [],
   "source": [
    "# Acceder a valores específicos\n",
    "for _, row in d_star_wars[:10].iterrows():\n",
    "    print(f\"Personaje: {row['name']}, Lugar: {row['homeworld']}\")"
   ]
  },
  {
   "cell_type": "markdown",
   "id": "a629211f",
   "metadata": {},
   "source": [
    "## 4) Creación de funciones en Python"
   ]
  },
  {
   "cell_type": "code",
   "execution_count": null,
   "id": "9d9f6439",
   "metadata": {},
   "outputs": [],
   "source": [
    "def mi_funcion():\n",
    "    print(\"Hola, mundo!\")"
   ]
  },
  {
   "cell_type": "code",
   "execution_count": null,
   "id": "9cca1768",
   "metadata": {},
   "outputs": [],
   "source": [
    "mi_funcion()"
   ]
  },
  {
   "cell_type": "code",
   "execution_count": null,
   "id": "b5ccf7f4",
   "metadata": {},
   "outputs": [],
   "source": [
    "def sumar(a, b):\n",
    "    return a + b\n",
    "\n",
    "def restar(a, b):\n",
    "    return a - b\n",
    "\n",
    "print(sumar(5, 5))\n",
    "print(restar(5, 5))"
   ]
  },
  {
   "cell_type": "markdown",
   "id": "b8551e22",
   "metadata": {},
   "source": [
    "## 5) Exploración de datos con funpymodeling"
   ]
  },
  {
   "cell_type": "code",
   "execution_count": null,
   "id": "2adb983a",
   "metadata": {},
   "outputs": [],
   "source": [
    "!pip install -q funpymodeling"
   ]
  },
  {
   "cell_type": "code",
   "execution_count": null,
   "id": "fefc88a2",
   "metadata": {},
   "outputs": [],
   "source": [
    "from funpymodeling.exploratory import status\n",
    "\n",
    "status(d_star_wars)"
   ]
  },
  {
   "cell_type": "code",
   "execution_count": null,
   "id": "9aad257e",
   "metadata": {},
   "outputs": [],
   "source": [
    "# Función personalizada para status\n",
    "def status2(df):\n",
    "    return pd.DataFrame({\n",
    "        \"variables\": df.columns,\n",
    "        \"valores_unicos\": df.nunique().values\n",
    "    })\n",
    "\n",
    "status2(d_star_wars)"
   ]
  },
  {
   "cell_type": "markdown",
   "id": "be3f4678",
   "metadata": {},
   "source": [
    "## 6) Introducción a NumPy"
   ]
  },
  {
   "cell_type": "code",
   "execution_count": null,
   "id": "ce18fbb1",
   "metadata": {},
   "outputs": [],
   "source": [
    "import numpy as np\n",
    "\n",
    "arr1 = np.array([1, 2, 3, 4, 5])\n",
    "print(arr1 + arr1)\n",
    "print(arr1.shape)"
   ]
  },
  {
   "cell_type": "code",
   "execution_count": null,
   "id": "005117c3",
   "metadata": {},
   "outputs": [],
   "source": [
    "arr2 = np.array([[1,2,3,4,5], [9,8,7,6,5]])\n",
    "print(arr2)\n",
    "print(arr2.shape)"
   ]
  },
  {
   "cell_type": "code",
   "execution_count": null,
   "id": "bb226ad7",
   "metadata": {},
   "outputs": [],
   "source": [
    "arr3 = np.array([[[1,2,3,4,5], [9,8,7,6,5]]])\n",
    "print(arr3.shape)"
   ]
  },
  {
   "cell_type": "code",
   "execution_count": null,
   "id": "736bac27",
   "metadata": {},
   "outputs": [],
   "source": [
    "arr4 = np.array([1,2,3,4,5,6]).reshape((2,3))\n",
    "print(arr4)\n",
    "print(arr4.flatten())"
   ]
  },
  {
   "cell_type": "code",
   "execution_count": null,
   "id": "04f81755",
   "metadata": {},
   "outputs": [],
   "source": [
    "print(arr1[0:3])\n",
    "print(arr4[1,0:2])"
   ]
  },
  {
   "cell_type": "markdown",
   "id": "89d0f590",
   "metadata": {},
   "source": [
    "## 7) Ejercicios"
   ]
  },
  {
   "cell_type": "markdown",
   "id": "9e1c011c",
   "metadata": {},
   "source": [
    "**Ejercicio 1:**\n",
    "Crear un `if` anidado para verificar si el número de cliente está entre 0 y 4. Si lo está, imprimir 'usuario autorizado', de lo contrario, 'usuario no autorizado'."
   ]
  },
  {
   "cell_type": "code",
   "execution_count": null,
   "id": "a6ac7757",
   "metadata": {},
   "outputs": [],
   "source": [
    "nro_de_cliente = 3\n",
    "if 0 <= nro_de_cliente <= 4:\n",
    "    print(\"Usuario autorizado\")\n",
    "else:\n",
    "    print(\"Usuario no autorizado\")"
   ]
  },
  {
   "cell_type": "markdown",
   "id": "75a9bb00",
   "metadata": {},
   "source": [
    "**Ejercicio 2:**\n",
    "Usar `while` para solicitar al usuario un número entre 1 y 5. Si el número es 3, imprimir 'Usted ha ganado la lotería'."
   ]
  },
  {
   "cell_type": "code",
   "execution_count": null,
   "id": "ea9de954",
   "metadata": {},
   "outputs": [],
   "source": [
    "while True:\n",
    "    numero = int(input(\"Ingrese un número del 1 al 5: \"))\n",
    "    if numero == 3:\n",
    "        print(\"¡Usted ha ganado la lotería!\")\n",
    "        break"
   ]
  },
  {
   "cell_type": "markdown",
   "id": "0da3af49",
   "metadata": {},
   "source": [
    "**Ejercicio 3:**\n",
    "Crear una lista del 0 al 10. Pedir un número entre 0 y 10 y mostrar los valores de la lista hasta ese número."
   ]
  },
  {
   "cell_type": "code",
   "execution_count": null,
   "id": "82cbaa5f",
   "metadata": {},
   "outputs": [],
   "source": [
    "lista = list(range(11))\n",
    "numero = int(input(\"Ingrese un número del 0 al 10: \"))\n",
    "\n",
    "for i in lista:\n",
    "    if i <= numero:\n",
    "        print(i)"
   ]
  },
  {
   "cell_type": "markdown",
   "id": "f1468dc2",
   "metadata": {},
   "source": [
    "**Ejercicio 4:**\n",
    "Pedir dos números, sumarlos en una función y mostrar el resultado."
   ]
  },
  {
   "cell_type": "code",
   "execution_count": null,
   "id": "c885f118",
   "metadata": {},
   "outputs": [],
   "source": [
    "def sumar_valores():\n",
    "    x1 = int(input(\"Ingrese primer número: \"))\n",
    "    x2 = int(input(\"Ingrese segundo número: \"))\n",
    "    print(\"Resultado:\", x1 + x2)\n",
    "\n",
    "sumar_valores()"
   ]
  },
  {
   "cell_type": "markdown",
   "id": "155aea58",
   "metadata": {},
   "source": [
    "**Ejercicio 5:**\n",
    "Solicitar dos valores y una operación (`+`, `-`, `*`, `/`). Realizar la operación indicada y mostrar el resultado."
   ]
  },
  {
   "cell_type": "code",
   "execution_count": null,
   "id": "598b99d6",
   "metadata": {},
   "outputs": [],
   "source": [
    "def calculadora():\n",
    "    a = int(input(\"Valor 1: \"))\n",
    "    b = int(input(\"Valor 2: \"))\n",
    "    op = input(\"Operación (+, -, *, /): \")\n",
    "\n",
    "    if op == \"+\":\n",
    "        print(a + b)\n",
    "    elif op == \"-\":\n",
    "        print(a - b)\n",
    "    elif op == \"*\":\n",
    "        print(a * b)\n",
    "    elif op == \"/\":\n",
    "        print(a / b)\n",
    "\n",
    "calculadora()"
   ]
  }
 ],
 "metadata": {},
 "nbformat": 4,
 "nbformat_minor": 5
}
