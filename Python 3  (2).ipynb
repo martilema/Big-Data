{
 "cells": [
  {
   "cell_type": "markdown",
   "id": "03759436",
   "metadata": {},
   "source": [
    "# Big Data\n",
    "## Estructuras de control y funciones clásicas"
   ]
  },
  {
   "cell_type": "markdown",
   "id": "2eb0407c",
   "metadata": {},
   "source": [
    "### 1) Nuestro amigo el IF"
   ]
  },
  {
   "cell_type": "code",
   "execution_count": null,
   "id": "93aec416",
   "metadata": {},
   "outputs": [],
   "source": [
    "nro_de_cliente=999\n",
    "\n",
    "if nro_de_cliente==999:\n",
    "  print('es el cliente 999!!')\n",
    "else:\n",
    "  print('cliente no encontrado :(')"
   ]
  },
  {
   "cell_type": "code",
   "execution_count": null,
   "id": "696c6a3f",
   "metadata": {},
   "outputs": [],
   "source": [
    "nro_de_cliente=999\n",
    "\n",
    "if nro_de_cliente==999:\n",
    "  print('es el cliente 999!!')\n",
    "elif nro_de_cliente==111:\n",
    "  print('es el cliente 111!!')\n",
    "else:\n",
    "  print('cliente no encontrado :(')"
   ]
  },
  {
   "cell_type": "markdown",
   "id": "2a83f4d5",
   "metadata": {},
   "source": [
    "**Operadores de comparación:**  \n",
    "Igual: x1 == x2  \n",
    "Distinto: x1 != x2  \n",
    "Menor a: x1 < x2  \n",
    "Menor o igual a: x1 <= x2  \n",
    "Mayor a: x1 > x2  \n",
    "Mayor o igual: x1 >= x2"
   ]
  },
  {
   "cell_type": "markdown",
   "id": "b9509deb",
   "metadata": {},
   "source": [
    "### 2) Mientras vemos el while"
   ]
  },
  {
   "cell_type": "code",
   "execution_count": null,
   "id": "e2eb6331",
   "metadata": {},
   "outputs": [],
   "source": [
    "i=0\n",
    "\n",
    "while(i<6):\n",
    "  i=i+1\n",
    "  print(i)"
   ]
  },
  {
   "cell_type": "code",
   "execution_count": null,
   "id": "316b0886",
   "metadata": {},
   "outputs": [],
   "source": [
    "while(1):\n",
    "  x1=input('¿Nombre? ')\n",
    "\n",
    "  if x1=='me aburri':\n",
    "    break\n",
    "\n",
    "  print('Bienvenido! ' + x1)"
   ]
  },
  {
   "cell_type": "markdown",
   "id": "d5564348",
   "metadata": {},
   "source": [
    "### 3) Para que usar while, si hay for!"
   ]
  },
  {
   "cell_type": "code",
   "execution_count": null,
   "id": "9864d6ea",
   "metadata": {},
   "outputs": [],
   "source": [
    "lista=[1,2,3,4,5,6]\n",
    "\n",
    "for i in lista:\n",
    "\n",
    "  if i == 5:\n",
    "    break\n",
    "\n",
    "  print(i)"
   ]
  },
  {
   "cell_type": "markdown",
   "id": "3be40d59",
   "metadata": {},
   "source": [
    "### ¿Cómo usar for sobre pandas data frame?"
   ]
  },
  {
   "cell_type": "code",
   "execution_count": null,
   "id": "5508613d",
   "metadata": {},
   "outputs": [],
   "source": [
    "import pandas as pd\n",
    "\n",
    "d_star_wars=pd.read_csv(filepath_or_buffer=\"https://raw.githubusercontent.com/fpineyro/homework-0/master/starwars.csv\", sep=',')\n",
    "d_star_wars.head()"
   ]
  },
  {
   "cell_type": "code",
   "execution_count": null,
   "id": "f5bf5411",
   "metadata": {},
   "outputs": [],
   "source": [
    "for row in d_star_wars:\n",
    "  print(row)"
   ]
  },
  {
   "cell_type": "code",
   "execution_count": null,
   "id": "0acf5dd8",
   "metadata": {},
   "outputs": [],
   "source": [
    "for label, row in d_star_wars[:5].iterrows():\n",
    "  print('El label es: ' + str(label))\n",
    "  print(row)"
   ]
  },
  {
   "cell_type": "code",
   "execution_count": null,
   "id": "f1b10ee4",
   "metadata": {},
   "outputs": [],
   "source": [
    "for _, row in d_star_wars[:10].iterrows():\n",
    "  print('Personaje: ' + row['name'] + ' lugar ' + row['homeworld'])"
   ]
  },
  {
   "cell_type": "markdown",
   "id": "a08e2cc1",
   "metadata": {},
   "source": [
    "### 4) ¿Cómo crear funciones en Python?"
   ]
  },
  {
   "cell_type": "code",
   "execution_count": null,
   "id": "8836a991",
   "metadata": {},
   "outputs": [],
   "source": [
    "def mi_funcion():\n",
    "  print('hola mundo')\n",
    "\n",
    "mi_funcion()"
   ]
  },
  {
   "cell_type": "code",
   "execution_count": null,
   "id": "398f924b",
   "metadata": {},
   "outputs": [],
   "source": [
    "def sumar(valor1, valor2):\n",
    "  return valor1 + valor2\n",
    "\n",
    "def restar(valor1, valor2):\n",
    "  return valor1 - valor2\n",
    "\n",
    "sumar(valor1 = 5, valor2= 5)\n",
    "\n",
    "valor1 = 5\n",
    "valor2 = 5\n",
    "\n",
    "restar(valor1, valor2)"
   ]
  },
  {
   "cell_type": "code",
   "execution_count": null,
   "id": "dcf1d90b",
   "metadata": {},
   "outputs": [],
   "source": [
    "!pip install -q funpymodeling"
   ]
  },
  {
   "cell_type": "code",
   "execution_count": null,
   "id": "989ba2e9",
   "metadata": {},
   "outputs": [],
   "source": [
    "from funpymodeling.exploratory import status\n",
    "\n",
    "status(d_star_wars)"
   ]
  },
  {
   "cell_type": "code",
   "execution_count": null,
   "id": "e2d4ce4b",
   "metadata": {},
   "outputs": [],
   "source": [
    "d_star_wars.nunique().values"
   ]
  },
  {
   "cell_type": "code",
   "execution_count": null,
   "id": "e33f0e3e",
   "metadata": {},
   "outputs": [],
   "source": [
    "d_star_wars.columns"
   ]
  },
  {
   "cell_type": "code",
   "execution_count": null,
   "id": "328d850c",
   "metadata": {},
   "outputs": [],
   "source": [
    "def status2(data):\n",
    "  return pd.DataFrame({'variables': data.columns, 'valores_unicos':data.nunique().values})\n",
    "\n",
    "status2(d_star_wars)"
   ]
  },
  {
   "cell_type": "markdown",
   "id": "57c7cae7",
   "metadata": {},
   "source": [
    "### C.2.1) ¿Qué es numpy?"
   ]
  },
  {
   "cell_type": "code",
   "execution_count": null,
   "id": "0313e215",
   "metadata": {},
   "outputs": [],
   "source": [
    "import numpy as np\n",
    "\n",
    "arr1 = np.array([1,2,3,4,5])\n",
    "arr1\n",
    "arr1+arr1\n",
    "arr1.shape"
   ]
  },
  {
   "cell_type": "code",
   "execution_count": null,
   "id": "7c679d54",
   "metadata": {},
   "outputs": [],
   "source": [
    "arr2=np.array([[1,2,3,4,5], [9,8,7,6,5]])\n",
    "arr2\n",
    "arr2.shape"
   ]
  },
  {
   "cell_type": "code",
   "execution_count": null,
   "id": "8f527d18",
   "metadata": {},
   "outputs": [],
   "source": [
    "arr3=np.array([[[1,2,3,4,5], [9,8,7,6,5]]])\n",
    "arr3.shape"
   ]
  },
  {
   "cell_type": "markdown",
   "id": "f306d997",
   "metadata": {},
   "source": [
    "### C.2.2) ¿Cómo hacer reshape en numpy?"
   ]
  },
  {
   "cell_type": "code",
   "execution_count": null,
   "id": "af9aca4b",
   "metadata": {},
   "outputs": [],
   "source": [
    "arr3=np.array([1,2,3,4,5,6])\n",
    "print(arr3)\n",
    "print(arr3.shape)\n",
    "\n",
    "arr4=arr3.reshape((2,3))\n",
    "arr4\n",
    "arr4.shape"
   ]
  },
  {
   "cell_type": "code",
   "execution_count": null,
   "id": "19f60142",
   "metadata": {},
   "outputs": [],
   "source": [
    "arr5=arr4.flatten()\n",
    "arr5"
   ]
  },
  {
   "cell_type": "markdown",
   "id": "4810fe7d",
   "metadata": {},
   "source": [
    "### C.2.3) ¿Cómo hacer slice de numpy?"
   ]
  },
  {
   "cell_type": "code",
   "execution_count": null,
   "id": "8154af07",
   "metadata": {},
   "outputs": [],
   "source": [
    "arr1\n",
    "arr1[0]\n",
    "arr1[0:3]"
   ]
  },
  {
   "cell_type": "markdown",
   "id": "8024c3f8",
   "metadata": {},
   "source": [
    "### C.2.4) ¿Cómo acceder a arrays n-dimensionales?"
   ]
  },
  {
   "cell_type": "code",
   "execution_count": null,
   "id": "04167f12",
   "metadata": {},
   "outputs": [],
   "source": [
    "arr4\n",
    "arr4[0,:]\n",
    "arr4[1,0]\n",
    "arr4[1,0:2]\n",
    "arr4[0]"
   ]
  },
  {
   "cell_type": "markdown",
   "id": "951d8dd3",
   "metadata": {},
   "source": [
    "### Ejercicios"
   ]
  },
  {
   "cell_type": "code",
   "execution_count": null,
   "id": "1d6090b3",
   "metadata": {},
   "outputs": [],
   "source": [
    "#Ejercicio 1\n",
    "if nro_de_cliente > 0 < 4:\n",
    "  print('usuario autorizado')"
   ]
  },
  {
   "cell_type": "code",
   "execution_count": null,
   "id": "d1ca08a9",
   "metadata": {},
   "outputs": [],
   "source": [
    "#Ejercicio 2\n",
    "while(1):\n",
    "  x1=input('Ingrese un número ')\n",
    "  if int(x1) == 3:\n",
    "    print ('Usted ha ganado')\n",
    "    break"
   ]
  },
  {
   "cell_type": "code",
   "execution_count": null,
   "id": "2dcfce48",
   "metadata": {},
   "outputs": [],
   "source": [
    "#Ejercicio 3\n",
    "lista=(0,1,2,3,4,5,6,7,8,9,10)\n",
    "\n",
    "while(1):\n",
    "  x1=input('Ingrese un número ')\n",
    "  x1 = int(x1)\n",
    "\n",
    "  for i in lista:\n",
    "   if i <= x1:\n",
    "    print(i)\n",
    "  i = i+1\n",
    "  break"
   ]
  },
  {
   "cell_type": "code",
   "execution_count": null,
   "id": "06fabc3c",
   "metadata": {},
   "outputs": [],
   "source": [
    "#Ejercicio 4\n",
    "while(1):\n",
    "  x1 = input(' Ingrese el primer número ')\n",
    "  x2 = input ('Ingrese el segundo número ')\n",
    "\n",
    "  x1 =int(x1)\n",
    "  x2 = int(x2)\n",
    "\n",
    "  suma= x1+x2\n",
    "  break\n",
    "\n",
    "print(suma)"
   ]
  },
  {
   "cell_type": "code",
   "execution_count": null,
   "id": "5a55c9ca",
   "metadata": {},
   "outputs": [],
   "source": [
    "#Ejercicio 5\n",
    "resultado_global = 0\n",
    "\n",
    "while(1):\n",
    "  x1 = input('Ingrese primer valor ')\n",
    "  x2 = input ('Ingrese segundo valor ')\n",
    "\n",
    "  x1=int(x1)\n",
    "  x2=int(x2)\n",
    "\n",
    "  operacion = input('Ingrese la operación a realizar ')\n",
    "\n",
    "  if operacion == '+':\n",
    "    resultado = x1+x2\n",
    "  elif operacion == '*':\n",
    "    resultado = x1*x2\n",
    "  elif operacion =='/':\n",
    "    resultado =x1/x2\n",
    "  elif operacion == '-':\n",
    "    resultado = x1-x2\n",
    "\n",
    "  resultado_global = resultado\n",
    "  break\n",
    "\n",
    "print('El resultado es', resultado_global)"
   ]
  }
 ],
 "metadata": {},
 "nbformat": 4,
 "nbformat_minor": 5
}
